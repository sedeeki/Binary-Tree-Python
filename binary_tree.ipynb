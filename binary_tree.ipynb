{
  "nbformat": 4,
  "nbformat_minor": 0,
  "metadata": {
    "anaconda-cloud": {},
    "kernelspec": {
      "display_name": "Python 3",
      "language": "python",
      "name": "python3"
    },
    "language_info": {
      "codemirror_mode": {
        "name": "ipython",
        "version": 3
      },
      "file_extension": ".py",
      "mimetype": "text/x-python",
      "name": "python",
      "nbconvert_exporter": "python",
      "pygments_lexer": "ipython3",
      "version": "3.7.4"
    },
    "colab": {
      "name": "binary_tree.ipynb",
      "provenance": [],
      "collapsed_sections": []
    }
  },
  "cells": [
    {
      "cell_type": "markdown",
      "metadata": {
        "id": "zRr93xyGHoTL"
      },
      "source": [
        "### Binary tree implementation\n"
      ]
    },
    {
      "cell_type": "code",
      "metadata": {
        "id": "Z7_oWnLoHoTO"
      },
      "source": [
        "class Node:\n",
        "    def __init__(self, val):\n",
        "        self.l = None\n",
        "        self.r = None\n",
        "        self.v = val\n",
        "\n",
        "class Tree:\n",
        "    def __init__(self):\n",
        "        self.root = None\n",
        "\n",
        "    def getRoot(self):\n",
        "        return self.root\n",
        "\n",
        "    def add(self, val):\n",
        "        if self.root==None:\n",
        "            self.root=Node(val)\n",
        "        else:\n",
        "            self._add(val,self.root)\n",
        "    def _add(self, val, node):\n",
        "        if val<node.v:\n",
        "            if node.l!=None:\n",
        "                self._add(val,node.l)\n",
        "            else:\n",
        "                node.l=Node(val)\n",
        "        else:\n",
        "             ####################\n",
        "             # YOUR CODE HERE\n",
        "            if node.r != None: \n",
        "                self._add(val,node.r)\n",
        "            else:\n",
        "                node.r = Node(val)  \n",
        "                \n",
        "             #####################   \n",
        "\n",
        "    def find(self, val):\n",
        "        if self.root!=None:\n",
        "            return self._find(val,self.root)\n",
        "        else:\n",
        "            return None\n",
        "\n",
        "    def _find(self, val, node):\n",
        "\n",
        "        ####################\n",
        "             # YOUR CODE HERE\n",
        "        if node == None: \n",
        "            return False\n",
        "        else:\n",
        "            if node.v == val:\n",
        "                return True\n",
        "            if val > node.v:\n",
        "                return self._find(val,node.r)\n",
        "            else:\n",
        "                return self._find(val,node.l)\n",
        "            #####################   \n",
        "        \n",
        "    def deleteTree(self):\n",
        "        self.root = None\n",
        "\n",
        "    def printTree(self):\n",
        "        if self.root==None:\n",
        "            return\n",
        "        else:\n",
        "            self._printTree(self.root)\n",
        "\n",
        "    def _printTree(self, node):\n",
        "        ####################\n",
        "        # YOUR CODE HERE\n",
        "        if node == None:\n",
        "            return\n",
        "        else:\n",
        "            self._printTree(node.l)\n",
        "            print(node.v)\n",
        "            self._printTree(node.r)\n",
        "\n",
        "        #####################   "
      ],
      "execution_count": null,
      "outputs": []
    },
    {
      "cell_type": "code",
      "metadata": {
        "id": "cQKKBHD2HoTS"
      },
      "source": [
        "tree = Tree()\n",
        "for i in range(10):\n",
        "    tree.add(i)\n",
        "\n",
        "print (\"Printing Tree\")\n",
        "print (\"Tree - >\", tree.printTree())\n",
        "#print \n",
        "\n",
        "print (\"Searching\")\n",
        "for i in range(10):\n",
        "    print (i, \"->\",)\n",
        "    if tree.find(i):\n",
        "        print (\"found\") \n",
        "    else: \n",
        "        print (\"not found\")\n",
        "\n",
        "print()\n",
        "print (\"Deleting Tree\")\n",
        "tree.deleteTree()\n",
        "\n",
        "print()\n",
        "print (\"Printing Tree\")\n",
        "print (\"Tree ->\", tree.printTree())"
      ],
      "execution_count": null,
      "outputs": []
    },
    {
      "cell_type": "code",
      "metadata": {
        "id": "Uf__DAcPNWAz"
      },
      "source": [
        ""
      ],
      "execution_count": null,
      "outputs": []
    }
  ]
}